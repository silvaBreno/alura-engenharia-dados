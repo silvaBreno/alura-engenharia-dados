{
 "cells": [
  {
   "cell_type": "markdown",
   "metadata": {
    "id": "48lvfFLHAaMS"
   },
   "source": [
    "## Configurando o MySQL com Python"
   ]
  },
  {
   "cell_type": "markdown",
   "metadata": {
    "id": "E_Rtdd62AaMU"
   },
   "source": [
    "Neste momento, vamos configurar a integração entre o MySQL e Python. Isso nos permitirá executar consultas, inserções e outras operações no banco de dados MySQL usando o Python como nossa linguagem de programação principal."
   ]
  },
  {
   "cell_type": "code",
   "execution_count": 1,
   "metadata": {},
   "outputs": [
    {
     "data": {
      "text/plain": [
       "True"
      ]
     },
     "execution_count": 1,
     "metadata": {},
     "output_type": "execute_result"
    }
   ],
   "source": [
    "import os\n",
    "from dotenv import load_dotenv\n",
    "import mysql.connector \n",
    "\n",
    "load_dotenv()"
   ]
  },
  {
   "cell_type": "code",
   "execution_count": 2,
   "metadata": {
    "id": "oSmszBiKAaMU"
   },
   "outputs": [
    {
     "name": "stdout",
     "output_type": "stream",
     "text": [
      "<mysql.connector.connection_cext.CMySQLConnection object at 0x7be4c0c56c50>\n"
     ]
    }
   ],
   "source": [
    "cnx = mysql.connector.connect(\n",
    "    host = os.getenv(\"DB_HOST\"),\n",
    "    user =  os.getenv(\"DB_USERNAME\"),\n",
    "    password=os.getenv(\"DB_PASSWORD\")\n",
    ")\n",
    "\n",
    "print(cnx)"
   ]
  },
  {
   "cell_type": "markdown",
   "metadata": {
    "id": "jprge52bAaMV"
   },
   "source": [
    "Criaremos um cursor, que é um objeto utilizado para executar instruções SQL no contexto do Python. Essse cursor nos permitirá enviar consultas e comandos SQL para o banco de dados MySQL por meio da conexão estabelecida e obter os resultados de volta para serem processados em nosso código Python"
   ]
  },
  {
   "cell_type": "code",
   "execution_count": null,
   "metadata": {
    "id": "_wxVOv0fAaMV"
   },
   "outputs": [],
   "source": [
    "cursor = cnx.cursor()"
   ]
  },
  {
   "cell_type": "markdown",
   "metadata": {
    "id": "yQCWj8OiAaMW"
   },
   "source": [
    "## Criando uma base de dados"
   ]
  },
  {
   "cell_type": "markdown",
   "metadata": {
    "id": "SuVcZJ3zAaMW"
   },
   "source": [
    "O método `execute()` é usado para compilar uma instrução SQL"
   ]
  },
  {
   "cell_type": "code",
   "execution_count": null,
   "metadata": {
    "id": "wt5l_h8hAaMW"
   },
   "outputs": [],
   "source": [
    "sqlQuery = 'CREATE DATABASE IF NOT EXISTS dbprodutos;'\n",
    "cursor.execute(operation=sqlQuery)"
   ]
  },
  {
   "cell_type": "code",
   "execution_count": null,
   "metadata": {
    "id": "Ofbqx6eQAaMW"
   },
   "outputs": [],
   "source": [
    "sqlQuery = \"SHOW DATABASES;\"\n",
    "cursor.execute(operation=sqlQuery)\n",
    "\n",
    "for db in cursor:\n",
    "    print(db)"
   ]
  },
  {
   "cell_type": "markdown",
   "metadata": {
    "id": "cNpQyBpzAaMW"
   },
   "source": [
    "## Criando uma tabela"
   ]
  },
  {
   "cell_type": "markdown",
   "metadata": {
    "id": "Z-fB6LrNAaMW"
   },
   "source": [
    "Antes de criar nossa tabela, vamos revisar as colunas necessárias que precisaremos incluir nela. Essa etapa é importante para garantir que nossa tabela seja projetada corretamente, atendendo aos requisitos de armazenamento e organização dos dados."
   ]
  },
  {
   "cell_type": "code",
   "execution_count": null,
   "metadata": {
    "id": "EDMnNl3UAaMX"
   },
   "outputs": [],
   "source": [
    "import pandas as pd\n",
    "\n",
    "df_livros = pd.read_csv('../data/tabela_livros.csv')\n",
    "df_livros"
   ]
  },
  {
   "cell_type": "code",
   "execution_count": null,
   "metadata": {
    "id": "AOgI2-yAAaMX"
   },
   "outputs": [],
   "source": [
    "df_livros.columns"
   ]
  },
  {
   "cell_type": "code",
   "execution_count": null,
   "metadata": {},
   "outputs": [],
   "source": [
    "df_livros.info()"
   ]
  },
  {
   "cell_type": "code",
   "execution_count": null,
   "metadata": {
    "id": "IjXdnduAAaMX"
   },
   "outputs": [],
   "source": [
    "# portanto sao 742 linhas e 13 colunas\n",
    "df_livros.shape"
   ]
  },
  {
   "cell_type": "code",
   "execution_count": null,
   "metadata": {
    "id": "mEL2pt5eAaMX"
   },
   "outputs": [],
   "source": [
    "cursor.execute(\"\"\"\n",
    "    CREATE TABLE IF NOT EXISTS dbprodutos.tb_livros(    \n",
    "            id VARCHAR(100),                  \n",
    "            Produto VARCHAR(100),               \n",
    "            Categoria_Produto VARCHAR(100),   \n",
    "            Preco FLOAT(10,2),                 \n",
    "            Frete FLOAT(10,2),                 \n",
    "            Data_Compra DATE,      \n",
    "            Vendedor VARCHAR(100),               \n",
    "            Local_Compra VARCHAR(100),        \n",
    "            Avaliação_Compra INT,\n",
    "            Tipo_Pagamento VARCHAR(100),      \n",
    "            Qtd_Parcelas INT,\n",
    "            Latitude FLOAT(10,2),               \n",
    "            Longitude FLOAT(10,2),  \n",
    "\n",
    "            PRIMARY KEY (id)   \n",
    "    );\n",
    "\"\"\"\n",
    ")"
   ]
  },
  {
   "cell_type": "markdown",
   "metadata": {
    "id": "h0QI3ib6AaMX"
   },
   "source": [
    "**Selecionando a base de dados para verificar a tabela criada**"
   ]
  },
  {
   "cell_type": "code",
   "execution_count": null,
   "metadata": {
    "id": "4kQPx8HKAaMX"
   },
   "outputs": [],
   "source": [
    "sql = \"USE dbprodutos;\"\n",
    "cursor.execute(operation=sql)\n",
    "\n",
    "sql = \"SHOW TABLES;\"\n",
    "cursor.execute(operation=sql)\n",
    "\n",
    "for tb in cursor:\n",
    "    print(tb)"
   ]
  },
  {
   "cell_type": "markdown",
   "metadata": {
    "id": "-vttBXAFAaMX"
   },
   "source": [
    "## Inserindo os dados do csv na tabela"
   ]
  },
  {
   "cell_type": "markdown",
   "metadata": {
    "id": "T1_WbYiCAaMY"
   },
   "source": [
    "Para inserir os dados na tabela do MySQL, é necessário percorrer cada linha do DataFrame e transformá-las em tuplas. Essa abordagem permite que mapeemos os dados do DataFrame para as colunas correspondentes da tabela do MySQL de forma eficiente e precisa."
   ]
  },
  {
   "cell_type": "code",
   "execution_count": null,
   "metadata": {
    "id": "vpub4UUaAaMY"
   },
   "outputs": [],
   "source": [
    "for i, row in df_livros.iterrows():\n",
    "    print(tuple(row))"
   ]
  },
  {
   "cell_type": "code",
   "execution_count": null,
   "metadata": {
    "id": "pXiEzr3xAaMY"
   },
   "outputs": [],
   "source": [
    "lista_dados = [tuple(row) for i, row in df_livros.iterrows()]\n",
    "lista_dados"
   ]
  },
  {
   "cell_type": "code",
   "execution_count": null,
   "metadata": {
    "id": "bmiJewjZAaMY"
   },
   "outputs": [],
   "source": [
    "sql = 'INSERT INTO dbprodutos.tb_livros VALUES (%s,%s,%s,%s,%s,%s,%s,%s,%s,%s,%s,%s,%s);'\n",
    "\n",
    "cursor.executemany(sql, lista_dados)\n",
    "cnx.commit()"
   ]
  },
  {
   "cell_type": "code",
   "execution_count": null,
   "metadata": {
    "id": "mtCAC3LRAaMY"
   },
   "outputs": [],
   "source": [
    "print(cursor.rowcount, 'dados inseridos de livros')"
   ]
  },
  {
   "cell_type": "code",
   "execution_count": null,
   "metadata": {},
   "outputs": [],
   "source": [
    "df_produtos_2021 = pd.read_csv('../data/tabela_produtos_2021_em_diante.csv')\n",
    "df_produtos_2021"
   ]
  },
  {
   "cell_type": "code",
   "execution_count": null,
   "metadata": {},
   "outputs": [],
   "source": [
    "df_produtos_2021.columns"
   ]
  },
  {
   "cell_type": "code",
   "execution_count": null,
   "metadata": {},
   "outputs": [],
   "source": [
    "df_produtos_2021.info()"
   ]
  },
  {
   "cell_type": "code",
   "execution_count": null,
   "metadata": {},
   "outputs": [],
   "source": [
    "df_produtos_2021.shape"
   ]
  },
  {
   "cell_type": "code",
   "execution_count": null,
   "metadata": {},
   "outputs": [],
   "source": [
    "lista_produtos = [tuple(row) for i, row in df_produtos_2021.iterrows()]\n",
    "lista_produtos"
   ]
  },
  {
   "cell_type": "code",
   "execution_count": null,
   "metadata": {},
   "outputs": [],
   "source": [
    "sql = \"\"\"\n",
    "    CREATE TABLE IF NOT EXISTS dbprodutos.tb_produtos_2021_em_diante(\n",
    "           id VARCHAR(100),                  \n",
    "            Produto VARCHAR(100),               \n",
    "            Categoria_Produto VARCHAR(100),   \n",
    "            Preco FLOAT(10,2),                 \n",
    "            Frete FLOAT(10,2),                 \n",
    "            Data_Compra DATE,      \n",
    "            Vendedor VARCHAR(100),               \n",
    "            Local_Compra VARCHAR(100),        \n",
    "            Avaliação_Compra INT,\n",
    "            Tipo_Pagamento VARCHAR(100),      \n",
    "            Qtd_Parcelas INT,\n",
    "            Latitude FLOAT(10,2),               \n",
    "            Longitude FLOAT(10,2),  \n",
    "\n",
    "            PRIMARY KEY (id)\n",
    "    );\n",
    "\"\"\"\n",
    "\n",
    "cursor.execute(operation=sql)"
   ]
  },
  {
   "cell_type": "code",
   "execution_count": null,
   "metadata": {},
   "outputs": [],
   "source": [
    "sql = 'INSERT INTO dbprodutos.tb_produtos_2021_em_diante VALUES (%s,%s,%s,%s,%s,%s,%s,%s,%s,%s,%s,%s,%s);'\n",
    "\n",
    "cursor.executemany(sql, lista_produtos)\n",
    "cnx.commit()"
   ]
  },
  {
   "cell_type": "code",
   "execution_count": null,
   "metadata": {},
   "outputs": [],
   "source": [
    "print(cursor.rowcount, 'dados inseridos de produtos')"
   ]
  },
  {
   "cell_type": "markdown",
   "metadata": {
    "id": "0uCRoygcAaMY"
   },
   "source": [
    "## Visualizando os dados inseridos"
   ]
  },
  {
   "cell_type": "code",
   "execution_count": null,
   "metadata": {
    "id": "lQYy48pQAaMY"
   },
   "outputs": [],
   "source": [
    "sql = 'SELECT * FROM dbprodutos.tb_livros;'\n",
    "cursor.execute(operation=sql)\n",
    "\n",
    "for row in cursor:\n",
    "    print(row)"
   ]
  },
  {
   "cell_type": "code",
   "execution_count": null,
   "metadata": {
    "id": "P3J6K1ZyAaMZ"
   },
   "outputs": [],
   "source": [
    "cursor.close()"
   ]
  },
  {
   "cell_type": "code",
   "execution_count": null,
   "metadata": {
    "id": "pl0Abrg1AaMZ"
   },
   "outputs": [],
   "source": [
    "cnx.close()"
   ]
  }
 ],
 "metadata": {
  "colab": {
   "provenance": []
  },
  "kernelspec": {
   "display_name": "venv",
   "language": "python",
   "name": "python3"
  },
  "language_info": {
   "codemirror_mode": {
    "name": "ipython",
    "version": 3
   },
   "file_extension": ".py",
   "mimetype": "text/x-python",
   "name": "python",
   "nbconvert_exporter": "python",
   "pygments_lexer": "ipython3",
   "version": "3.10.12"
  }
 },
 "nbformat": 4,
 "nbformat_minor": 0
}
