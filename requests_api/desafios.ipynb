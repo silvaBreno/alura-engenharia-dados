{
 "cells": [
  {
   "cell_type": "markdown",
   "id": "0",
   "metadata": {},
   "source": [
    "### **Desafio 1: bora praticar?**"
   ]
  },
  {
   "cell_type": "markdown",
   "id": "1",
   "metadata": {},
   "source": [
    "Para praticar o conteúdo aprendido no decorrer dessa aula e também aprender novos, vamos realizar um desafio prático utilizando a biblioteca Requests e a API do GitHub.\n",
    "\n",
    "Dessa vez, nossa tarefa é extrair os dados sobre os seguidores da conta da Amazon no GitHub. Para fazermos isso, vamos utilizar como referência a seguinte documentação: [List followers of a user.](https://docs.github.com/en/rest/users/followers?apiVersion=2022-11-28#list-followers-of-a-user)\n",
    "\n",
    "Analisando a documentação, nós chegamos ao seguinte código inicial:\n",
    "\n",
    "```python\n",
    "\n",
    "import requests\n",
    "\n",
    "username = 'amzn'\n",
    "url = f\"https://api.github.com/users/{username}/followers\"\n",
    "\n",
    "response = requests.get(url, headers=headers)\n",
    "followers = response.json()\n",
    "\n",
    "``` \n",
    "\n",
    "No entanto, ao conferir o tamanho da lista followers, utilizando a função len(followers), notamos que ela possuía apenas os dados de 30 seguidores da conta do GitHub da Amazon. A conta tem muito mais de 30 seguidores, mas eles estão separados em diferentes páginas, e justamente por isso, ao conferirmos o tamanho da lista, o retorno foi 30.\n",
    "\n",
    "Sendo assim, para conseguirmos extrair os dados de todos os seguidores, vamos precisar melhorar o nosso código e **implementar o processo de paginação.**\n",
    "\n",
    "Durante essa etapa, devemos nos atentar a alguns detalhes:\n",
    "\n",
    "- criar uma lista vazia chamada **followers_list** para armazenar as informações sobre os seguidores;\n",
    "\n",
    "- utilizar um laço para iterar e extrair os dados dos seguidores existentes em cada uma das páginas (dica: caso você não tenha conhecimento de quantas páginas com seguidores existem, pesquise como utilizar o laço **While True** do Python);\n",
    "\n",
    "- acrescentar o parâmetro \"page\" na url, alterando o valor dele a cada iteração do laço que estiver sendo usado para paginação (lembre-se que a numeração das páginas sempre começam a partir do número 1);\n",
    "\n",
    "- enviar o token e a versão da API para o parâmetro headers no momento de fazer a requisição GET."
   ]
  },
  {
   "cell_type": "code",
   "execution_count": null,
   "id": "2",
   "metadata": {},
   "outputs": [],
   "source": [
    "import requests, os, pandas as pd\n",
    "from dotenv import load_dotenv"
   ]
  },
  {
   "cell_type": "code",
   "execution_count": null,
   "id": "3",
   "metadata": {},
   "outputs": [],
   "source": [
    "load_dotenv() "
   ]
  },
  {
   "cell_type": "code",
   "execution_count": null,
   "id": "4",
   "metadata": {},
   "outputs": [],
   "source": [
    "# definindo o token e a versão da API\n",
    "access_token = os.getenv(\"GITHUB_TOKEN\")\n",
    "\n",
    "if not access_token:\n",
    "    raise ValueError(\"A variável de ambiente GITHUB_TOKEN não está definida.\")\n",
    "\n",
    "headers = {'Authorization': 'Bearer ' + access_token,\n",
    "           'X-GitHub-Api-Version': '2022-11-28'}"
   ]
  },
  {
   "cell_type": "code",
   "execution_count": null,
   "id": "5",
   "metadata": {},
   "outputs": [],
   "source": [
    "username = 'amzn'\n",
    "url = f\"https://api.github.com/users/{username}/followers\"\n",
    "\n",
    "page = 1\n",
    "followers_list = []\n",
    "\n",
    "while True: \n",
    "\n",
    "    # faz a requisição \n",
    "    url_page = f'{url}?per_page=100&page={page}'\n",
    "    response = requests.get(url_page, headers=headers)\n",
    "\n",
    "    # converte a resposta para um objeto JSON\n",
    "    followers = response.json()\n",
    "\n",
    "    # caso a lista esteja vazia, podemos sair do laço pois todos os dados foram extraidos\n",
    "    if len(followers)==0:\n",
    "        break\n",
    "\n",
    "    # adicionando os seguidores a lista\n",
    "    followers_list.append(followers)\n",
    "\n",
    "    # incrementa o valor de 'page' para a próxima requisição\n",
    "    page += 1"
   ]
  },
  {
   "cell_type": "code",
   "execution_count": null,
   "id": "6",
   "metadata": {},
   "outputs": [],
   "source": [
    "len(followers_list[0])"
   ]
  },
  {
   "cell_type": "markdown",
   "id": "7",
   "metadata": {},
   "source": [
    "### **Desafio 2: bora praticar?**"
   ]
  },
  {
   "cell_type": "markdown",
   "id": "8",
   "metadata": {},
   "source": [
    "Para praticar o conteúdo aprendido no decorrer dessa aula e também aprender novos, vamos realizar um desafio prático utilizando a biblioteca Pandas e os dados da API do GitHub.\n",
    "\n",
    "No desafio da aula 2 nós extraímos os dados de todos os seguidores da conta do Github da Amazon e armazenamos eles na lista \"followers_list\". Considerando isso, nossa tarefa agora é aplicar as transformações necessárias nos dados armazenados na lista **followers_list** para **selecionarmos apenas o nome de usuário de cada seguidor**.\n",
    "\n",
    "Para concluirmos essa tarefa é importante:\n",
    "\n",
    "- entender como os dados dos seguidores estão estruturados na lista;\n",
    "- armazenar o nome de usuário de cada seguidor em uma lista;\n",
    "- conferir o tamanho da lista de nomes de usuário de seguidores para ter certeza que é igual ao número de seguidores apresentados no Github;\n",
    "- estruturar os dados em um DataFrame e salvá-los em CSV.\n",
    "\n",
    "Se precisar de ajuda, na seção \"Opinião da pessoa instrutora\" você pode encontrar algumas formas de resolver o desafio proposto acima."
   ]
  },
  {
   "cell_type": "code",
   "execution_count": null,
   "id": "9",
   "metadata": {},
   "outputs": [],
   "source": [
    "# criando uma lista vazia\n",
    "followers_name = []\n",
    "\n",
    "# percorrendo a lista com os dados dos seguidores e selecionando apenas o nome de usuário\n",
    "for page in followers_list:\n",
    "    for follower in page:\n",
    "        followers_name.append(follower['login'])\n",
    "\n",
    "# conferindo o tamanho da lista\n",
    "len(followers_name)"
   ]
  },
  {
   "cell_type": "code",
   "execution_count": null,
   "id": "10",
   "metadata": {},
   "outputs": [],
   "source": [
    "followers_name"
   ]
  },
  {
   "cell_type": "code",
   "execution_count": null,
   "id": "11",
   "metadata": {},
   "outputs": [],
   "source": [
    "followers_amz = pd.DataFrame(data=followers_name, columns=['followers_name'])"
   ]
  },
  {
   "cell_type": "code",
   "execution_count": null,
   "id": "12",
   "metadata": {},
   "outputs": [],
   "source": [
    "followers_amz"
   ]
  },
  {
   "cell_type": "code",
   "execution_count": null,
   "id": "13",
   "metadata": {},
   "outputs": [],
   "source": [
    "followers_amz.to_csv('csv/amazon_followers.csv')"
   ]
  },
  {
   "cell_type": "markdown",
   "id": "14",
   "metadata": {},
   "source": [
    "### **Desafio 3: bora praticar?**"
   ]
  },
  {
   "cell_type": "markdown",
   "id": "15",
   "metadata": {},
   "source": [
    "Para praticar o conteúdo aprendido no decorrer dessa aula e também aprender novos, vamos realizar um desafio prático utilizando a biblioteca Requests e a API do GitHub.\n",
    "\n",
    "Nossa próxima tarefa é realizar o fork de um repositório da Amazon utilizando uma requisição do tipo POST.\n",
    "\n",
    "`Fazer um fork de um repositório é como criar uma cópia de um projeto que pertence a outra pessoa ou organização dentro do seu próprio perfil no GitHub. Isso permite que você trabalhe em uma versão do projeto sem afetar o original, podendo fazer modificações, correções de bugs e melhorias.`\n",
    "\n",
    "Para realizarmos esse processo, vamos precisar acessar a documentação da API do GitHub onde existem informações sobre como realizar esse processo: [Forks - Create a fork](https://docs.github.com/en/rest/repos/forks?apiVersion=2022-11-28#create-a-fork).\n",
    "\n",
    "Após analisar a documentação, é importante não esquecermos de realizar alguns passos:\n",
    "\n",
    "- conferir o endpoint que deve ser utilizado para realização do fork;\n",
    "- acessar os [repositórios públicos da Amazon](https://github.com/orgs/amzn/repositories), selecionar um deles para fazer o fork e salvar seu nome em uma variável;\n",
    "- enviar o token e a versão da API no momento de fazer a requisição."
   ]
  },
  {
   "cell_type": "code",
   "execution_count": null,
   "id": "16",
   "metadata": {},
   "outputs": [],
   "source": [
    "## POST /repos/{owner}/{repo}/forks\n",
    "\n",
    "api_base_url = 'https://api.github.com'\n",
    "owner = 'amzn'\n",
    "repo = 'supply-chain-simulation-environment'\n",
    "url = f'{api_base_url}/repos/{owner}/{repo}/forks'\n",
    "url"
   ]
  },
  {
   "cell_type": "code",
   "execution_count": null,
   "id": "17",
   "metadata": {},
   "outputs": [],
   "source": [
    "access_token = os.getenv(\"GITHUB_TOKEN\")\n",
    "\n",
    "if not access_token:\n",
    "    raise ValueError(\"A variável de ambiente GITHUB_TOKEN não está definida.\")\n",
    "\n",
    "headers = {'Authorization': 'Bearer ' + access_token,\n",
    "           'X-GitHub-Api-Version': '2022-11-28'}           "
   ]
  },
  {
   "cell_type": "code",
   "execution_count": null,
   "id": "18",
   "metadata": {},
   "outputs": [],
   "source": [
    "response = requests.post(url, headers=headers)\n",
    "response"
   ]
  }
 ],
 "metadata": {
  "kernelspec": {
   "display_name": "venv",
   "language": "python",
   "name": "python3"
  },
  "language_info": {
   "codemirror_mode": {
    "name": "ipython",
    "version": 3
   },
   "file_extension": ".py",
   "mimetype": "text/x-python",
   "name": "python",
   "nbconvert_exporter": "python",
   "pygments_lexer": "ipython3",
   "version": "3.11.9"
  }
 },
 "nbformat": 4,
 "nbformat_minor": 5
}
